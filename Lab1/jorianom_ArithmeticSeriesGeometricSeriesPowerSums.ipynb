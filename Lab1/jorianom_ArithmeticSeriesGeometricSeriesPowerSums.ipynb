{
  "nbformat": 4,
  "nbformat_minor": 0,
  "metadata": {
    "colab": {
      "provenance": []
    },
    "kernelspec": {
      "name": "python3",
      "display_name": "Python 3"
    }
  },
  "cells": [
    {
      "cell_type": "markdown",
      "metadata": {
        "id": "r4rXWI4gCN5B"
      },
      "source": [
        "# Arithmetic Series\n",
        "\n",
        "## Modified from Arithmetic Series -  [Wolfram MathWorld](https://mathworld.wolfram.com/ArithmeticSeries.html) - [wikipedia](https://en.wikipedia.org/wiki/Arithmetic_progression)\n",
        "\n",
        "\n",
        "An arithmetic sequence $\\{a_k\\}$ for $k=1, 2, ..., $ in which each term is computed from the previous one by adding (or subtracting) a constant $d$.\n",
        "\n",
        "\\begin{align*}\n",
        "a_1 & \\\\\n",
        "a_2 &\\ \\ =\\ \\ a_1 + d  \\\\\n",
        "a_3 &\\ \\ =\\ \\ a_2 + d \\ \\ =\\ \\ a_1 + 2d   \\\\\n",
        "a_4 &\\ \\ =\\ \\ a_3 + d \\ \\ =\\ \\ a_2 + 2d \\ \\ =\\ \\ a_1 + 3d  \\\\\n",
        "\\vdots\\\\\n",
        "a_k &\\ \\ =\\ \\ a_{(k-1)}+d \\ =\\  a_{(k-2)}+2d \\ =\\  \\ldots \\ =\\  \\ a_1+(k-1)d\n",
        "\\end{align*}\n",
        "\n",
        "Therefore, for $k>=1$,\n",
        "\n",
        "$$ a_k = a_1 + (k-1)d$$\n",
        "\n",
        "With $a_1$ and $d$ given.\n",
        "\n",
        "<br />\n",
        "\n",
        "The sequence of the partial sum of the first $n$ terms of a sequence is called a series, in the case of an arithemetic sequence the series is called an arithmetic series.\n",
        "\n",
        "If  $a_1= 1$ and $d=1$ we have, the simplest arithmnetic sequence,  the natural numbers sequence $\\{a_k = k \\}$ for  $k=1, 2, ..., $  i.e. the seuqnece\n",
        "$$1, 2, ...,$$\n",
        "The  corresponding series is\n",
        "$$\n",
        "S_n = 1 + 2+ \\ldots + (n-1)+ n = \\sum_{k=1}^n k\n",
        "$$\n",
        "can be calculated as a function of $n$.\n",
        "\n",
        "Assume that we allign one $S_{n-1}$ with a second  $S_{n-1}$ that have the terms adden reverse order and you add term to term, we have\n",
        "\\begin{array}{llclclclclc}\n",
        "  S_{n-1} &=& 1 &+& 2 &+& \\ldots &+& (n-2) &+& (n-1) \\\\\n",
        "  S_{n-1} &=& (n-1)  &+& (n-2)  &+& \\ldots   &+& 2   &+& 1 \\\\\n",
        "   \\hline \\\\\n",
        "   2S_{n-1} &=& n  &+& n  &+& \\ldots   &+& n   &+& n \\\\\n",
        "\\end{array}\n",
        "so\n",
        "$$  2S_{n-1} = (n-1)n $$\n",
        "then\n",
        "$$  S_{n-1} = \\frac{1}{2} (n-1)n$$\n",
        "therefore\n",
        "$$  S_{n} = \\frac{1}{2} n(n+1)$$\n",
        "\n",
        "\n",
        "\\begin{align*}\n",
        "S_n &= \\sum_{k=1}^n a_k\t\\\\\n",
        "    &= \\sum_{k=1}^n[a_1+(k-1)d]\t\t\\\\\n",
        "    &= na_1 + d \\sum_{k=1}^n(k-1)\t\\\\\n",
        "    &= na_1 + d \\sum_{k=0}^{n-1} k\t\\\\\n",
        "    &= na_1 + d \\sum_{k=1}^{n-1} k\t\\\\\n",
        "    &= na_1 +  \\frac{1}{2} d(n-1)n\\\\\n",
        "\\end{align*}\n",
        "so\n",
        "$$ S_n =  \\frac{1}{2} n[2 a_1 +d(n-1)].$$\n",
        "\n",
        "Note, however, that\n",
        "$$a_1+a_n=a_1+[a_1+d(n-1)]=2a_1+d(n-1),$$\n",
        "so\n",
        "$$S_n = \\frac{1}{2}n(a_1+a_n),$$\n",
        "\n",
        "\n",
        "or $n$ times the arithmetic mean of the first and last terms! This is the trick Gauss used as a schoolboy to solve the problem of summing the integers from $1$ to $100$ given as busy-work by his teacher. While his classmates toiled away doing the addition longhand, Gauss wrote a single number, the correct answer\n",
        "\n",
        "$$\\frac{1}{2}(100)(1+100)=50·101=5050$$\n",
        "on his slate (Burton 1989, pp. 80-81; Hoffman 1998, p. 207). When the answers were examined, Gauss's proved to be the only correct one.\n",
        "\n",
        "<br />\n",
        "\n",
        "If  the sequence starts at index $0$, $\\{a_k\\}$ for $ k=0, 1, 2, ..., $ we have\n",
        "\n",
        "\\begin{align*}\n",
        "a_0 & \\\\\n",
        "a_1 &\\ \\ =\\ \\ a_0 + d  \\\\\n",
        "a_2 &\\ \\ =\\ \\ a_1 + d \\ \\ =\\ \\ a_0 + 2d   \\\\\n",
        "a_3 &\\ \\ =\\ \\ a_2 + d \\ \\ =\\ \\ a_1 + 2d \\ \\ =\\ \\ a_0 + 3d  \\\\\n",
        "\\vdots\\\\\n",
        "a_k &\\ \\ =\\ \\ a_{(k-1)}+d \\ =\\  a_{(k-2)}+2d \\ =\\  \\ldots \\ = \\  \\ a_1+(k-1)d \\ \\ =\\ \\ a_0+kd\n",
        "\\end{align*}\n",
        "\n",
        "<br />\n",
        "for given   $a_0$ and $d$.\n",
        "\n",
        "In this case the sum of the terms between $0$ and $n$ of  the arithemnetic sequence  is then given by\n",
        "\\begin{align*}\n",
        "S_n &= \\sum_{k=0}^{n} a_k\t\\\\\n",
        "    &= \\sum_{k=0}^{n}[a_0+kd]\t\t\\\\\n",
        "    &= (n+1) a_0 + d \\sum_{k=0}^{n} k\t\\\\\n",
        "    &= (n+1) a_0 + d \\sum_{k=1}^{} k\t\\\\\n",
        "    &=(n+1) a_0+  \\frac{1}{2} dn(n+1) \\\\\n",
        "\\end{align*}\n",
        "so\n",
        "$$ S_n =  \\frac{1}{2} (n+1)[2 a_0 + dn].$$\n",
        "<br />\n",
        "$$ S_n =  \\frac{1}{2} (n+1)[a_0+ a_n].$$\n",
        "\n",
        "\n"
      ]
    },
    {
      "cell_type": "markdown",
      "metadata": {
        "id": "GfBh-QHRcods"
      },
      "source": [
        "### Code\n",
        "####  The simplest arithmetic sequence and series\n",
        "\n",
        "The simplest arithmnetic sequence is\n",
        "\n",
        "\n",
        "$$a_n = 1, 2, ...,$$"
      ]
    },
    {
      "cell_type": "markdown",
      "metadata": {
        "id": "n36eWqEXiktl"
      },
      "source": [
        "The following code plots the first $n = 15$ terms of the simplest arithmnetic sequence\n",
        "$$\\{a_n = n\\} \\text{ for } n =1,2,\\ldots  $$\n",
        "i.e\n",
        "$$\\{a_n = n\\} =1,2,\\ldots $$\n",
        "adn the corresponding terms of the simplest arithmnetic series\n",
        "$$  S_n = 1 + 2+ \\ldots + (n-1)+ n = \\sum_{k=1}^n k=  \\frac{1}{2} n(n+1)$$\n"
      ]
    },
    {
      "cell_type": "markdown",
      "metadata": {
        "id": "_VyGiunIZknK"
      },
      "source": [
        "Plot"
      ]
    },
    {
      "cell_type": "code",
      "metadata": {
        "colab": {
          "base_uri": "https://localhost:8080/",
          "height": 447
        },
        "id": "gx3Q4uo-ONCi",
        "outputId": "6b820c89-8f22-4007-8007-c57114ec6090"
      },
      "source": [
        "import matplotlib.pyplot as plt\n",
        "\n",
        "n = 15\n",
        "S_n = 0\n",
        "Serie_S_n=[]\n",
        "Sequence_a_n =[]\n",
        "for i in range(1,n+1):\n",
        "  S_n = S_n + i\n",
        "  Serie_S_n.append(S_n)\n",
        "  Sequence_a_n.append(i)\n",
        "\n",
        "\n",
        "plt.plot(Serie_S_n, color='black',label='Serie_S_n')\n",
        "plt.plot(Sequence_a_n, color='red',label='Sequence_a_n')\n",
        "plt.legend()\n",
        "\n",
        "\n"
      ],
      "execution_count": null,
      "outputs": [
        {
          "output_type": "execute_result",
          "data": {
            "text/plain": [
              "<matplotlib.legend.Legend at 0x7fe868d9e8f0>"
            ]
          },
          "metadata": {},
          "execution_count": 9
        },
        {
          "output_type": "display_data",
          "data": {
            "text/plain": [
              "<Figure size 640x480 with 1 Axes>"
            ],
            "image/png": "[encoded data removed]"
          },
          "metadata": {}
        }
      ]
    },
    {
      "cell_type": "code",
      "metadata": {
        "colab": {
          "base_uri": "https://localhost:8080/"
        },
        "id": "o2es6b4cysQk",
        "outputId": "75b6b356-6a52-4234-da32-7bb46b9927b0"
      },
      "source": [
        "Sequence_a_n"
      ],
      "execution_count": null,
      "outputs": [
        {
          "output_type": "execute_result",
          "data": {
            "text/plain": [
              "[1, 2, 3, 4, 5, 6, 7, 8, 9, 10, 11, 12, 13, 14, 15]"
            ]
          },
          "metadata": {},
          "execution_count": 10
        }
      ]
    },
    {
      "cell_type": "code",
      "metadata": {
        "colab": {
          "base_uri": "https://localhost:8080/"
        },
        "id": "T2VeBOBZ0ibg",
        "outputId": "34586afe-a4f7-41f6-b376-1d9ccc6e088f"
      },
      "source": [
        "Serie_S_n"
      ],
      "execution_count": null,
      "outputs": [
        {
          "output_type": "execute_result",
          "data": {
            "text/plain": [
              "[1, 3, 6, 10, 15, 21, 28, 36, 45, 55, 66, 78, 91, 105, 120]"
            ]
          },
          "metadata": {},
          "execution_count": 11
        }
      ]
    },
    {
      "cell_type": "markdown",
      "metadata": {
        "id": "0ybfJdHxZGvW"
      },
      "source": [
        "The following code computes the  $n=10000000$  term of the airthmetic series\n",
        "$$  S_n = 1 + 2+ \\ldots + (n-1)+ n = \\sum_{k=1}^n =  \\frac{1}{2} n(n+1)$$"
      ]
    },
    {
      "cell_type": "code",
      "metadata": {
        "colab": {
          "base_uri": "https://localhost:8080/"
        },
        "id": "99xYHDQycnol",
        "outputId": "12cb5f2f-bb45-4a2c-a604-7c1293595426"
      },
      "source": [
        "n = 10000000\n",
        "S_n = 0\n",
        "for i in range(1,n+1):  # range(n+1) goes form 1 to n\n",
        "  S_n = S_n + i\n",
        "print(S_n)"
      ],
      "execution_count": null,
      "outputs": [
        {
          "output_type": "stream",
          "name": "stdout",
          "text": [
            "50000005000000\n"
          ]
        }
      ]
    },
    {
      "cell_type": "code",
      "metadata": {
        "colab": {
          "base_uri": "https://localhost:8080/"
        },
        "id": "RGCSuDGHeFwH",
        "outputId": "938cfa3e-b93d-4dd8-e741-4fcd9d89ac9f"
      },
      "source": [
        "(1/2)*n*(n+1)"
      ],
      "execution_count": null,
      "outputs": [
        {
          "output_type": "execute_result",
          "data": {
            "text/plain": [
              "50000005000000.0"
            ]
          },
          "metadata": {},
          "execution_count": 13
        }
      ]
    },
    {
      "cell_type": "markdown",
      "metadata": {
        "id": "bg8zxAhcecpk"
      },
      "source": [
        "The following code computes the $n=10000000$ term of the airthmetic series\n",
        "$$ S_n  = \\sum_{k=1}^n a_k$$\n",
        "\n",
        "<br />\n",
        "for the airthmetic sequence $a_k = 10 + 3 (k-1) $ for $k=1,2,\\ldots$\n",
        "\n",
        "<br />\n",
        "$$ 10,13,16,19,21,\\ldots$$\n"
      ]
    },
    {
      "cell_type": "markdown",
      "metadata": {
        "id": "hg3ixQ3bZiVh"
      },
      "source": [
        "Plot"
      ]
    },
    {
      "cell_type": "code",
      "metadata": {
        "colab": {
          "base_uri": "https://localhost:8080/"
        },
        "id": "w8FP1XqSgnie",
        "outputId": "1fa2d61b-b2eb-4306-81a6-a2c3d8b31abd"
      },
      "source": [
        "n = 10000000\n",
        "a = 10\n",
        "d = 3\n",
        "S_n = 0\n",
        "for i in range(1,n+1):  # range(n+19 goes form 1 to n\n",
        "  a_n = a + d * (i-1)\n",
        "  S_n = S_n + a_n\n",
        "print(S_n)"
      ],
      "execution_count": null,
      "outputs": [
        {
          "output_type": "stream",
          "name": "stdout",
          "text": [
            "150000085000000\n"
          ]
        }
      ]
    },
    {
      "cell_type": "code",
      "metadata": {
        "colab": {
          "base_uri": "https://localhost:8080/"
        },
        "id": "g_38RfB_hgg2",
        "outputId": "77bb5f5c-9ee0-4b0c-dd94-051be527fcbd"
      },
      "source": [
        "n*(2*a +d*(n-1))/2"
      ],
      "execution_count": null,
      "outputs": [
        {
          "output_type": "execute_result",
          "data": {
            "text/plain": [
              "150000085000000.0"
            ]
          },
          "metadata": {},
          "execution_count": 15
        }
      ]
    },
    {
      "cell_type": "code",
      "metadata": {
        "colab": {
          "base_uri": "https://localhost:8080/"
        },
        "id": "zS3qb_xE1u58",
        "outputId": "ccc9c886-41cc-4169-e73f-deb3f27e293f"
      },
      "source": [
        "n*(a +a_n)/2"
      ],
      "execution_count": null,
      "outputs": [
        {
          "output_type": "execute_result",
          "data": {
            "text/plain": [
              "150000085000000.0"
            ]
          },
          "metadata": {},
          "execution_count": 16
        }
      ]
    },
    {
      "cell_type": "code",
      "metadata": {
        "colab": {
          "base_uri": "https://localhost:8080/",
          "height": 449
        },
        "id": "7qesKez70zub",
        "outputId": "799168f4-68f6-4a0a-e88f-1719c1de9e9a"
      },
      "source": [
        "import matplotlib.pyplot as plt\n",
        "\n",
        "n = 20\n",
        "a = 10\n",
        "d = 3\n",
        "S_n = 0\n",
        "Serie_S_n=[]\n",
        "Sequence_a_n =[]\n",
        "for i in range(1,n+1):  # range(n+19 goes form 1 to n\n",
        "  a_n = a + d * (i-1)\n",
        "  S_n = S_n + a_n\n",
        "  Serie_S_n.append(S_n)\n",
        "  Sequence_a_n.append(a_n)\n",
        "\n",
        "plt.plot(Serie_S_n, color='black',label='Serie_S_n')\n",
        "plt.plot(Sequence_a_n, color='red',label='Sequence_a_n')\n",
        "plt.legend()"
      ],
      "execution_count": null,
      "outputs": [
        {
          "output_type": "execute_result",
          "data": {
            "text/plain": [
              "<matplotlib.legend.Legend at 0x7fe868c37370>"
            ]
          },
          "metadata": {},
          "execution_count": 17
        },
        {
          "output_type": "display_data",
          "data": {
            "text/plain": [
              "<Figure size 640x480 with 1 Axes>"
            ],
            "image/png": "[encoded data removed]"
          },
          "metadata": {}
        }
      ]
    },
    {
      "cell_type": "markdown",
      "metadata": {
        "id": "r9qzONSlZq2q"
      },
      "source": [
        "## Your own example of arithmetic series"
      ]
    },
    {
      "cell_type": "markdown",
      "metadata": {
        "id": "N-TxF1qxc-nk"
      },
      "source": [
        "## My own example\n",
        "$$\\\\S_a=\\frac{n(a_1 + a_n)}{2}\\\\\n",
        "\\\\n = 1, 2, 3, ...,35\\\\a_1 = 1,\\: a_{35} = 35$$"
      ]
    },
    {
      "cell_type": "code",
      "metadata": {
        "id": "SrJ_dPxS0pwP",
        "outputId": "4a884cea-fec3-4e44-9728-ec3a664aaf09",
        "colab": {
          "base_uri": "https://localhost:8080/",
          "height": 465
        }
      },
      "source": [
        "a1 = 1\n",
        "a_n = 35\n",
        "n = 35\n",
        "S_n = (n*(a1+a_n))/2\n",
        "print(S_n)\n",
        "import matplotlib.pyplot as plt\n",
        "n = 35\n",
        "a1 = 1\n",
        "S_n = 0\n",
        "Serie_n = []\n",
        "Sequence = []\n",
        "for i in range (1,n+1):\n",
        "  an = a1 + (i - 1)\n",
        "  a = a1 + an\n",
        "  s = (i*a)/2\n",
        "  S_n += i\n",
        "  Serie_n.append(S_n)\n",
        "  Sequence.append(i)\n",
        "\n",
        "plt.plot(Serie_n, color='m',label='Serie_S_n')\n",
        "plt.plot(Sequence, color='c',label='Sequence_a_n')\n",
        "plt.legend()"
      ],
      "execution_count": null,
      "outputs": [
        {
          "output_type": "stream",
          "name": "stdout",
          "text": [
            "630.0\n"
          ]
        },
        {
          "output_type": "execute_result",
          "data": {
            "text/plain": [
              "<matplotlib.legend.Legend at 0x7fe868cd9ab0>"
            ]
          },
          "metadata": {},
          "execution_count": 18
        },
        {
          "output_type": "display_data",
          "data": {
            "text/plain": [
              "<Figure size 640x480 with 1 Axes>"
            ],
            "image/png": "[encoded data removed]"
          },
          "metadata": {}
        }
      ]
    },
    {
      "cell_type": "code",
      "source": [
        "print(Serie_n)\n",
        "Sequence"
      ],
      "metadata": {
        "colab": {
          "base_uri": "https://localhost:8080/"
        },
        "id": "xRn7y-CkfrtH",
        "outputId": "d2d10a89-2425-4903-b8f6-d1c749ac901c"
      },
      "execution_count": null,
      "outputs": [
        {
          "output_type": "stream",
          "name": "stdout",
          "text": [
            "[1, 3, 6, 10, 15, 21, 28, 36, 45, 55, 66, 78, 91, 105, 120, 136, 153, 171, 190, 210, 231, 253, 276, 300, 325, 351, 378, 406, 435, 465, 496, 528, 561, 595, 630]\n"
          ]
        },
        {
          "output_type": "execute_result",
          "data": {
            "text/plain": [
              "[1,\n",
              " 2,\n",
              " 3,\n",
              " 4,\n",
              " 5,\n",
              " 6,\n",
              " 7,\n",
              " 8,\n",
              " 9,\n",
              " 10,\n",
              " 11,\n",
              " 12,\n",
              " 13,\n",
              " 14,\n",
              " 15,\n",
              " 16,\n",
              " 17,\n",
              " 18,\n",
              " 19,\n",
              " 20,\n",
              " 21,\n",
              " 22,\n",
              " 23,\n",
              " 24,\n",
              " 25,\n",
              " 26,\n",
              " 27,\n",
              " 28,\n",
              " 29,\n",
              " 30,\n",
              " 31,\n",
              " 32,\n",
              " 33,\n",
              " 34,\n",
              " 35]"
            ]
          },
          "metadata": {},
          "execution_count": 19
        }
      ]
    },
    {
      "cell_type": "markdown",
      "metadata": {
        "id": "AKWJ1F7hac8T"
      },
      "source": [
        "# Geometric Series\n",
        "\n",
        "## Modified from Geometric Series -  [Wolfram MathWorld](https://mathworld.wolfram.com/GeometricSeries.html) - [wikipedia](https://en.wikipedia.org/wiki/Geometric_series)\n"
      ]
    },
    {
      "cell_type": "markdown",
      "metadata": {
        "id": "W5zx_-nR81GI"
      },
      "source": [
        "An geometric series is the sum of a sequence $\\{a_k\\}$ for $k=1, 2, ..., $ in which each term is computed from the previous  by multipliying constant $r$ and starts with 1.\n",
        "\n",
        "\\begin{align*}\n",
        "a_0 &\\ \\ =\\ \\ r^0 \\ \\ =\\ \\ 1\\\\\n",
        "a_1 &\\ \\ =\\ \\ a_0 *  r \\ \\ =\\ \\  r\\\\\n",
        "a_2 &\\ \\ =\\ \\ a_1 * r\\ \\ =\\ \\ a_0 * r^2  \\ \\ =\\ \\ r^2 \\\\\n",
        "a_3 &\\ \\ =\\ \\ a_2 * r \\ \\ =\\ \\ a_0 * r^3 \\ \\ =\\ \\  r^3  \\\\\n",
        "a_4 &\\ \\ =\\ \\ a_3 * r\\ \\  =\\ \\ a_0 * r^4 \\ \\  =\\ \\ r^4  \\\\\n",
        "\\vdots\\\\\n",
        "a_k &\\ \\ =\\ \\ a_{(k-1)}* r \\ =\\   a_0 * r^k \\ \\  =\\ \\  r^k\n",
        "\\end{align*}\n",
        "\n",
        "The sum of the first $n$ terms  of  the geometric sequence (called an geometric serie)  is then given by\n",
        "$$\n",
        "\\begin{array}{ll}\n",
        "S_n &=  1 + r + r^2 + \\cdots + r^{n-1} +r^n \\\\\n",
        " &=  (1 + r + r^2 + \\cdots + r^{n-1} ) +r^n \\\\\n",
        " &= S_{n-1}  +r^n\n",
        "\\end{array}\n",
        "$$\n",
        "\n",
        "$$\n",
        "\\begin{array}{ll}\n",
        "S_n &=  1 + r + r^2 + \\cdots + r^{n-1} +r^n \\\\\n",
        " &=  1 + (r + r^2 + \\cdots + r^{n-1}  +r^n)  \\\\\n",
        " &=   1 + r (1 +  r  + r^2 + \\cdots + r^{n-1} )  \\\\\n",
        "  &=   1 + r   S_{n-1}\n",
        "\\end{array}\n",
        "$$\n",
        "\n",
        "Then\n",
        "$$\n",
        " S_{n-1}  +r^n =   1 + r   S_{n-1}\n",
        "$$\n",
        "\n",
        "Therefore\n",
        "$$\n",
        " S_{n-1} (1 -r)   +r^n =   1 - r^n\n",
        "$$\n",
        "\n",
        "$$\n",
        " S_{n-1}   =   \\frac{1 - r^n }{1 -r}\n",
        "$$\n",
        "\n",
        "$$\n",
        " S_{n}   =   \\frac{1 - r^{n+1} }{1 -r}  = \\frac{ r^{n+1} - 1}{r -1}\n",
        "$$\n"
      ]
    },
    {
      "cell_type": "markdown",
      "metadata": {
        "id": "CDUYfT8k8crr"
      },
      "source": [
        "## Nodes in Complete Binary Tree with $L=0,1,2,\\cdots , L-1$ levels\n",
        "\n",
        "![](https://raw.githubusercontent.com/gjhernandezp/algorithms/master/Lab7/ComBinTree.png)\n",
        "\n",
        "In a complete binary tree you have in ecah level $k =0,1,2,\\cdots $  $ 2^k $\n",
        "\n",
        "$$\n",
        "\\begin{array}{ll}\n",
        "\\text {Level } 0 \\rightarrow 2^0 = 1 \\text { node (root)} \\\\\n",
        "\\text {Level } 1 \\rightarrow 2^1 = 2 \\text { nodes} \\\\\n",
        "\\text {Level } 2 \\rightarrow 2^2 = 4 \\text { nodes} \\\\\n",
        "\\text {Level } 3 \\rightarrow 2^3 = 8 \\text { nodes} \\\\\n",
        "\\vdots\\\\\n",
        "\\text {Level } k \\rightarrow 2^k  \\text { nodes} \\\\\n",
        "\\end{array}\n",
        "$$\n",
        "\n",
        "nodes, with $l = 0,1,2, ... $ the level\n",
        "\n",
        "Total number of the complte tree with $L=0,1,2,\\cdots , L-1$ levels\n",
        "\n",
        "$$\n",
        "2^0 + 2^1 + 2^2 + \\cdots +2^{L-1}  = 1 + 2 + 4 + \\cdots +2^{L-1} = \\sum_{k=0}^{L-1} 2^k = \\frac{ 2^{L} - 1}{2 -1} = 2^{L} - 1\n",
        "$$"
      ]
    },
    {
      "cell_type": "markdown",
      "metadata": {
        "id": "YiWlrhLZNMX9"
      },
      "source": [
        "### Code\n",
        "\n",
        "Sum a geometric with $r =2$ and other $r > 1 \\neq 2$  series up to 10** 6 and verify with the formula\n",
        "\n",
        "Plot the firts 20 terms and the partial sums"
      ]
    },
    {
      "cell_type": "code",
      "metadata": {
        "id": "YvMkYU8UNOll",
        "colab": {
          "base_uri": "https://localhost:8080/",
          "height": 497
        },
        "outputId": "515b3cc0-c5b6-44c7-d1a1-47d5757fbafa"
      },
      "source": [
        "import matplotlib.pyplot as plt\n",
        "sum = 0\n",
        "L = 20\n",
        "Sequence = []\n",
        "suma=[]\n",
        "for x in range(0, L):\n",
        "  sum = sum + 2**x\n",
        "  suma.append(sum)\n",
        "  Sequence.append(x)\n",
        "print(sum)\n",
        "print(2**10-1)\n",
        "\n",
        "\n",
        "plt.plot(suma, color='m',label='Sum NBT')\n",
        "plt.plot(Sequence, color='c',label='Sequence_a_n')"
      ],
      "execution_count": 15,
      "outputs": [
        {
          "output_type": "stream",
          "name": "stdout",
          "text": [
            "1048575\n",
            "1023\n"
          ]
        },
        {
          "output_type": "execute_result",
          "data": {
            "text/plain": [
              "[<matplotlib.lines.Line2D at 0x7d76bdf9dc30>]"
            ]
          },
          "metadata": {},
          "execution_count": 15
        },
        {
          "output_type": "display_data",
          "data": {
            "text/plain": [
              "<Figure size 640x480 with 1 Axes>"
            ],
            "image/png": "[encoded data removed]"
          },
          "metadata": {}
        }
      ]
    },
    {
      "cell_type": "markdown",
      "metadata": {
        "id": "Dd3RWDwJe2xD"
      },
      "source": [
        "## Zenon Arrow\n",
        "\n",
        "![](https://raw.githubusercontent.com/gjhernandezp/algorithms/master/Lab7/zeno-paradox-arrow.png)\n",
        "\n",
        "Achilles and the tortoise - https://en.wikipedia.org/wiki/Zeno%27s_paradoxes\n",
        "\n",
        "\n",
        "\n",
        "$$\n",
        "\\lim_{n\\rightarrow \\infty} \\left\\{\\left(\\frac{1}{2}\\right)^0 + \\left(\\frac{1}{2}\\right)^1 +\\left(\\frac{1}{2}\\right)^2 + \\cdots +\\left(\\frac{1}{2}\\right)^{n} \\right\\} = \\lim_{n\\rightarrow \\infty} \\left\\{ 1 +\\frac{1}{2} + \\frac{1}{4} + \\frac{1}{8} + \\cdots +\\frac{1}{2^{n}}\\right\\}  = \\lim_{n\\rightarrow \\infty} \\sum_{k=0}^{n} \\left(\\frac{1}{2}\\right)^k = \\lim_{n\\rightarrow \\infty} \\frac{ 1- \\left(\\frac{1}{2}\\right)^n  }{1 - \\left(\\frac{1}{2}\\right) } = \\frac{ 1}{1 - \\left(\\frac{1}{2}\\right)} = 2\n",
        "$$"
      ]
    },
    {
      "cell_type": "markdown",
      "metadata": {
        "id": "R-J4EekBNPkd"
      },
      "source": [
        "### Code\n",
        "\n",
        "Sum a geometric with  $r=\\frac{1}{2}$ other $r < 1 \\neq \\frac{1}{2}$ series up to  $n = 60$ and verify with the formula\n",
        "\n",
        "Plot the firts 60 terms and the partial sums"
      ]
    },
    {
      "cell_type": "code",
      "metadata": {
        "id": "8xdBovY3NEW_",
        "colab": {
          "base_uri": "https://localhost:8080/",
          "height": 465
        },
        "outputId": "06222c90-db57-4ae5-8ece-35cc7707575e"
      },
      "source": [
        "import matplotlib.pyplot as plt\n",
        "sum = 0\n",
        "L = 1000\n",
        "s=[]\n",
        "Sequence = []\n",
        "for x in range(0, L):\n",
        "  sum = sum + (1/2)**x\n",
        "  s.append(sum)\n",
        "  Sequence.append((1/2)**x)\n",
        "print(sum)\n",
        "plt.plot(s, color='m',label='Serie 1/2')\n",
        "plt.plot(Sequence, color='c',label='Sequence')\n",
        "plt.xlim(0,100)\n",
        "plt.legend()\n"
      ],
      "execution_count": 6,
      "outputs": [
        {
          "output_type": "stream",
          "name": "stdout",
          "text": [
            "2.0\n"
          ]
        },
        {
          "output_type": "execute_result",
          "data": {
            "text/plain": [
              "<matplotlib.legend.Legend at 0x7d76cd1bde40>"
            ]
          },
          "metadata": {},
          "execution_count": 6
        },
        {
          "output_type": "display_data",
          "data": {
            "text/plain": [
              "<Figure size 640x480 with 1 Axes>"
            ],
            "image/png": "[encoded data removed]"
          },
          "metadata": {}
        }
      ]
    },
    {
      "cell_type": "markdown",
      "metadata": {
        "id": "dh2ntBeoNQlN"
      },
      "source": [
        "# Power Sums Power Sums - [Wolfram MathWorld](https://mathworld.wolfram.com/PowerSum.html) - [wikipedia](https://en.wikipedia.org/wiki/Sums_of_powers) - [reserachgate](https://www.researchgate.net/publication/331933608_The_Powers_Sums_Bernoulli_Numbers_Bernoulli_Polynomials_Rethinked)\n",
        "\n"
      ]
    },
    {
      "cell_type": "markdown",
      "source": [
        "Code p = last digit + 1\n",
        "\n",
        "Code p = 5 + 1 = 6\n",
        "\n",
        "Sum $1^p+2^p+\\cdots + n^p$  series up to  $n=10^6$  and verify with the formula\n",
        "\n",
        "Plot the firts 20 terms and the partial sums"
      ],
      "metadata": {
        "id": "kSYU0kwMCBXB"
      }
    },
    {
      "cell_type": "code",
      "metadata": {
        "id": "2PyxzzOZVIdl",
        "colab": {
          "base_uri": "https://localhost:8080/",
          "height": 549
        },
        "outputId": "0a96beb8-b255-4997-9f8f-2155ceba19e5"
      },
      "source": [
        "def power_sums(p, n):\n",
        "  sum = 0\n",
        "  arr = []\n",
        "  Sequence = []\n",
        "  for i in range(1, n + 1):\n",
        "    sum += i**p\n",
        "    if i <= 20:\n",
        "      arr.append(i**p)\n",
        "    if i == 20:\n",
        "      Sequence.append(i**p)\n",
        "      print(\"sumatoria hasta n=20 :\", sum)\n",
        "  return sum, arr\n",
        "\n",
        "p = 2\n",
        "n = 20\n",
        "sum, arr = power_sums(p, n)\n",
        "x = range(1,n+1)\n",
        "print(\"Sumatoria 1^p+2^p+⋯+(10^6)^p :\", sum)\n",
        "print(\"n=20 :\", arr[19])\n",
        "\n",
        "plt.style.use('seaborn-whitegrid')\n",
        "plt.plot(x, arr, color='m',label='Serie')\n",
        "plt.plot(x, Sequence, color='c',label='Sequence')\n",
        "plt.xlim(0,20)\n",
        "plt.legend()\n",
        "Sequence"
      ],
      "execution_count": 28,
      "outputs": [
        {
          "output_type": "stream",
          "name": "stdout",
          "text": [
            "sumatoria hasta n=20 : 2870\n",
            "Sumatoria 1^p+2^p+⋯+(10^6)^p : 2870\n",
            "n=20 : 400\n"
          ]
        },
        {
          "output_type": "stream",
          "name": "stderr",
          "text": [
            "<ipython-input-28-96a0375a09be>:21: MatplotlibDeprecationWarning: The seaborn styles shipped by Matplotlib are deprecated since 3.6, as they no longer correspond to the styles shipped by seaborn. However, they will remain available as 'seaborn-v0_8-<style>'. Alternatively, directly use the seaborn API instead.\n",
            "  plt.style.use('seaborn-whitegrid')\n"
          ]
        },
        {
          "output_type": "execute_result",
          "data": {
            "text/plain": [
              "[0, 1, 2, 3, 4, 5, 6, 7, 8, 9, 10, 11, 12, 13, 14, 15, 16, 17, 18, 19]"
            ]
          },
          "metadata": {},
          "execution_count": 28
        },
        {
          "output_type": "display_data",
          "data": {
            "text/plain": [
              "<Figure size 640x480 with 1 Axes>"
            ],
            "image/png": "[encoded data removed]"
          },
          "metadata": {}
        }
      ]
    },
    {
      "cell_type": "markdown",
      "source": [
        "# Power Sums Power Sums - Verificación con formula\n"
      ],
      "metadata": {
        "id": "57uxHKxBwIvn"
      }
    },
    {
      "cell_type": "markdown",
      "source": [
        "![image.png](data:image/png;base64,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)"
      ],
      "metadata": {
        "id": "KJwWT5KRuHK9"
      }
    },
    {
      "cell_type": "code",
      "source": [
        "print(\"Sumatoria 1^p+2^p+⋯+(10^6)^p\")\n",
        "p = 6\n",
        "n = n**6\n",
        "n_p = (6*(n**7)+21*(n**6)+21*(n**5)-7*(n**3)+n)*(1/42)\n",
        "print(n_p)"
      ],
      "metadata": {
        "colab": {
          "base_uri": "https://localhost:8080/"
        },
        "id": "rWe-yuwjnsNc",
        "outputId": "bb61040a-0285-4aa2-a544-436e7d5c284e"
      },
      "execution_count": null,
      "outputs": [
        {
          "output_type": "stream",
          "name": "stdout",
          "text": [
            "Sumatoria 1^p+2^p+⋯+(10^6)^p\n",
            "1.4285714285714283e+251\n"
          ]
        }
      ]
    },
    {
      "cell_type": "code",
      "source": [
        "print(\"sumatoria hasta n=20 :\")\n",
        "p = 6\n",
        "n = 20#n**10\n",
        "n_p = (n*(n+1)*(2*n+1)*(3*n**4+6*n**3-3*n+1))/42\n",
        "print(n_p)"
      ],
      "metadata": {
        "colab": {
          "base_uri": "https://localhost:8080/"
        },
        "id": "xADY9P8Wuga9",
        "outputId": "f13b04bb-3ea5-44cb-a19c-0c8e801bfc78"
      },
      "execution_count": null,
      "outputs": [
        {
          "output_type": "stream",
          "name": "stdout",
          "text": [
            "sumatoria hasta n=20 :\n",
            "216455810.0\n"
          ]
        }
      ]
    }
  ]
}